{
  "nbformat": 4,
  "nbformat_minor": 0,
  "metadata": {
    "colab": {
      "name": "utils.ipynb",
      "provenance": []
    },
    "kernelspec": {
      "name": "python3",
      "display_name": "Python 3"
    },
    "language_info": {
      "name": "python"
    }
  },
  "cells": [
    {
      "cell_type": "code",
      "execution_count": null,
      "metadata": {
        "id": "qmfPg4Jp8btx"
      },
      "outputs": [],
      "source": [
        "import random\n",
        "import numpy as np\n",
        "from scipy.stats import norm"
      ]
    },
    {
      "cell_type": "code",
      "source": [
        "random.seed(1)"
      ],
      "metadata": {
        "id": "Xydi_qxQ8i8j"
      },
      "execution_count": null,
      "outputs": []
    },
    {
      "cell_type": "code",
      "source": [
        "def brownian_sim(num_path, num_period, mu, std, init_p, dt):\n",
        "    z = np.random.normal(size=(num_path, num_period))\n",
        "\n",
        "    a_price = np.zeros((num_path, num_period))\n",
        "    a_price[:, 0] = init_p\n",
        "\n",
        "    for t in range(num_period - 1):\n",
        "        a_price[:, t + 1] = a_price[:, t] * np.exp(\n",
        "            (mu - (std ** 2) / 2) * dt + std * np.sqrt(dt) * z[:, t]\n",
        "        )\n",
        "    return a_price"
      ],
      "metadata": {
        "id": "N8yWD9NS8mOX"
      },
      "execution_count": null,
      "outputs": []
    },
    {
      "cell_type": "code",
      "source": [
        "# BSM Call Option Pricing Formula & BS Delta formula\n",
        "# T here is time to maturity\n",
        "def bs_call(iv, T, S, K, r, q):\n",
        "    d1 = (np.log(S / K) + (r - q + iv * iv / 2) * T) / (iv * np.sqrt(T))\n",
        "    d2 = d1 - iv * np.sqrt(T)\n",
        "    bs_price = S * np.exp(-q * T) * norm.cdf(d1) - K * np.exp(-r * T) * norm.cdf(d2)\n",
        "    bs_delta = np.exp(-q * T) * norm.cdf(d1)\n",
        "    return bs_price, bs_delta"
      ],
      "metadata": {
        "id": "9iCAbpkY8o6I"
      },
      "execution_count": null,
      "outputs": []
    },
    {
      "cell_type": "code",
      "source": [
        "def get_sim_path(M, freq, np_seed, num_sim):\n",
        "    \"\"\" Return simulated data: a tuple of three arrays\n",
        "        M: initial time to maturity\n",
        "        freq: trading freq in unit of day, e.g. freq=2: every 2 day; freq=0.5 twice a day;\n",
        "        np_seed: numpy random seed\n",
        "        num_sim: number of simulation path\n",
        "\n",
        "        1) asset price paths (num_path x num_period)\n",
        "        2) option price paths (num_path x num_period)\n",
        "        3) delta (num_path x num_period)\n",
        "    \"\"\"\n",
        "    # set the np random seed\n",
        "    np.random.seed(np_seed)\n",
        "\n",
        "    # Trading Freq per day; passed from function parameter\n",
        "    # freq = 2\n",
        "\n",
        "    # Annual Trading Day\n",
        "    T = 250\n",
        "\n",
        "    # Simulation Time Step\n",
        "    dt = 0.004 * freq\n",
        "    print(\"dt \", dt)\n",
        "\n",
        "\n",
        "    # Option Day to Maturity; passed from function parameter\n",
        "    # M = 60\n",
        "\n",
        "    # Number of period\n",
        "    num_period = int(M / freq)\n",
        "\n",
        "    # Number of simulations; passed from function parameter\n",
        "    # num_sim = 1000000\n",
        "\n",
        "    # Annual Return\n",
        "    mu = 0.05\n",
        "\n",
        "    # Annual Volatility\n",
        "    vol = 0.2\n",
        "\n",
        "    # Initial Asset Value\n",
        "    S = 100\n",
        "\n",
        "    # Option Strike Price\n",
        "    K = 100\n",
        "\n",
        "    # Annual Risk Free Rate\n",
        "    r = 0\n",
        "\n",
        "    # Annual Dividend\n",
        "    q = 0\n",
        "\n",
        "    # asset price 2-d array\n",
        "    print(\"1. generate asset price paths\")\n",
        "    a_price = brownian_sim(num_sim, num_period + 1, mu, vol, S, dt)\n",
        "\n",
        "    # time to maturity \"rank 1\" array: e.g. [M, M-1, ..., 0]\n",
        "    ttm = np.arange(M, -freq, -freq)\n",
        "\n",
        "    # BS price 2-d array and bs delta 2-d array\n",
        "    print(\"2. generate BS price and delta\")\n",
        "    bs_price, bs_delta = bs_call(vol, ttm / T, a_price, K, r, q)\n",
        "\n",
        "    print(\"simulation done!\")\n",
        "\n",
        "    return a_price, bs_price, bs_delta"
      ],
      "metadata": {
        "id": "v8LEzrWC8rkB"
      },
      "execution_count": null,
      "outputs": []
    },
    {
      "cell_type": "code",
      "source": [
        "def sabr_sim(num_path, num_period, mu, std, init_p, dt, rho, beta, volvol):\n",
        "    qs = np.random.normal(size=(num_path, num_period))\n",
        "    qi = np.random.normal(size=(num_path, num_period))\n",
        "    qv = rho * qs + np.sqrt(1 - rho * rho) * qi\n",
        "\n",
        "    vol = np.zeros((num_path, num_period))\n",
        "    vol[:, 0] = std\n",
        "\n",
        "    a_price = np.zeros((num_path, num_period))\n",
        "    a_price[:, 0] = init_p\n",
        "\n",
        "    for t in range(num_period - 1):\n",
        "        gvol = vol[:, t] * (a_price[:, t] ** (beta - 1))\n",
        "        a_price[:, t + 1] = a_price[:, t] * np.exp(\n",
        "            (mu - (gvol ** 2) / 2) * dt + gvol * np.sqrt(dt) * qs[:, t]\n",
        "        )\n",
        "        vol[:, t + 1] = vol[:, t] * np.exp(\n",
        "            -volvol * volvol * 0.5 * dt + volvol * qv[:, t] * np.sqrt(dt)\n",
        "        )\n",
        "\n",
        "    return a_price, vol"
      ],
      "metadata": {
        "id": "ZOFMDvN68vKw"
      },
      "execution_count": null,
      "outputs": []
    },
    {
      "cell_type": "code",
      "source": [
        "def sabr_implied_vol(vol, T, S, K, r, q, beta, volvol, rho):\n",
        "\n",
        "    F = S * np.exp((r - q) * T)\n",
        "    x = (F * K) ** ((1 - beta) / 2)\n",
        "    y = (1 - beta) * np.log(F / K)\n",
        "    A = vol / (x * (1 + y * y / 24 + y * y * y * y / 1920))\n",
        "    B = 1 + T * (\n",
        "        ((1 - beta) ** 2) * (vol * vol) / (24 * x * x)\n",
        "        + rho * beta * volvol * vol / (4 * x)\n",
        "        + volvol * volvol * (2 - 3 * rho * rho) / 24\n",
        "    )\n",
        "    Phi = (volvol * x / vol) * np.log(F / K)\n",
        "    Chi = np.log((np.sqrt(1 - 2 * rho * Phi + Phi * Phi) + Phi - rho) / (1 - rho))\n",
        "\n",
        "    SABRIV = np.where(F == K, vol * B / (F ** (1 - beta)), A * B * Phi / Chi)\n",
        "\n",
        "    return SABRIV"
      ],
      "metadata": {
        "id": "KMUpXbmc8y5y"
      },
      "execution_count": null,
      "outputs": []
    },
    {
      "cell_type": "code",
      "source": [
        "def bartlett(sigma, T, S, K, r, q, ds, beta, volvol, rho):\n",
        "\n",
        "    dsigma = ds * volvol * rho / (S ** beta)\n",
        "\n",
        "    vol1 = sabr_implied_vol(sigma, T, S, K, r, q, beta, volvol, rho)\n",
        "    vol2 = sabr_implied_vol(sigma + dsigma, T, S + ds, K, r, q, beta, volvol, rho)\n",
        "\n",
        "    bs_price1, _ = bs_call(vol1, T, S, K, r, q)\n",
        "    bs_price2, _ = bs_call(vol2, T, S+ds, K, r, q)\n",
        "\n",
        "    b_delta = (bs_price2 - bs_price1) / ds\n",
        "\n",
        "    return b_delta"
      ],
      "metadata": {
        "id": "S7dWzptv8022"
      },
      "execution_count": null,
      "outputs": []
    },
    {
      "cell_type": "code",
      "source": [
        "def bs_call(iv, T, S, K, r, q):\n",
        "    d1 = (np.log(S / K) + (r - q + iv * iv / 2) * T) / (iv * np.sqrt(T))\n",
        "    d2 = d1 - iv * np.sqrt(T)\n",
        "    bs_price = S * np.exp(-q * T) * norm.cdf(d1) - K * np.exp(-r * T) * norm.cdf(d2)\n",
        "    bs_delta = np.exp(-q * T) * norm.cdf(d1)\n",
        "    return bs_price, bs_delta"
      ],
      "metadata": {
        "id": "VyR2qd7184cL"
      },
      "execution_count": null,
      "outputs": []
    },
    {
      "cell_type": "code",
      "source": [
        "def get_sim_path_sabr(M, freq, np_seed, num_sim):\n",
        "    \"\"\" Return simulated data: a tuple of four arrays\n",
        "        M: initial time to maturity\n",
        "        freq: trading freq in unit of day, e.g. freq=2: every 2 day; freq=0.5 twice a day;\n",
        "        np_seed: numpy random seed\n",
        "        num_sim: number of simulation path\n",
        "\n",
        "        1) asset price paths (num_path x num_period)\n",
        "        2) option price paths (num_path x num_period)\n",
        "        3) bs delta (num_path x num_period)\n",
        "        4) bartlett delta (num_path x num_period)\n",
        "    \"\"\"\n",
        "    # set the np random seed\n",
        "    np.random.seed(np_seed)\n",
        "\n",
        "    # Trading Freq per day; passed from function parameter\n",
        "    # freq = 2\n",
        "\n",
        "    # Annual Trading Day\n",
        "    T = 250\n",
        "\n",
        "    # Simulation Time Step\n",
        "    dt = 0.004 * freq\n",
        "\n",
        "    # Option Day to Maturity; passed from function parameter\n",
        "    # M = 60\n",
        "\n",
        "    # Number of period\n",
        "    num_period = int(M / freq)\n",
        "\n",
        "    # Number of simulations; passed from function parameter\n",
        "    # num_sim = 1000000\n",
        "\n",
        "    # Annual Return\n",
        "    mu = 0.05\n",
        "\n",
        "    # Annual Volatility\n",
        "    vol = 0.2\n",
        "\n",
        "    # Initial Asset Value\n",
        "    S = 100\n",
        "\n",
        "    # Option Strike Price\n",
        "    K = 100\n",
        "\n",
        "    # Annual Risk Free Rate\n",
        "    r = 0\n",
        "\n",
        "    # Annual Dividend\n",
        "    q = 0\n",
        "\n",
        "    # SABR parameters\n",
        "    beta = 1\n",
        "    rho = -0.4\n",
        "    volvol = 0.6\n",
        "    ds = 0.001\n",
        "\n",
        "    # asset price 2-d array; sabr_vol\n",
        "    print(\"1. generate asset price paths (sabr)\")\n",
        "    a_price, sabr_vol = sabr_sim(\n",
        "        num_sim, num_period + 1, mu, vol, S, dt, rho, beta, volvol\n",
        "    )\n",
        "\n",
        "    # time to maturity \"rank 1\" array: e.g. [M, M-1, ..., 0]\n",
        "    ttm = np.arange(M, -freq, -freq)\n",
        "\n",
        "    # BS price 2-d array and bs delta 2-d array\n",
        "    print(\"2. generate BS price, BS delta, and Bartlett delta\")\n",
        "\n",
        "    # sabr implied vol\n",
        "    implied_vol = sabr_implied_vol(\n",
        "        sabr_vol, ttm / T, a_price, K, r, q, beta, volvol, rho\n",
        "    )\n",
        "\n",
        "    bs_price, bs_delta = bs_call(implied_vol, ttm / T, a_price, K, r, q)\n",
        "\n",
        "    bartlett_delta = bartlett(sabr_vol, ttm / T, a_price, K, r, q, ds, beta, volvol, rho)\n",
        "\n",
        "    print(\"simulation done!\")\n",
        "\n",
        "    return a_price, bs_price, bs_delta, bartlett_delta"
      ],
      "metadata": {
        "id": "oAl1bTFF868Q"
      },
      "execution_count": null,
      "outputs": []
    },
    {
      "cell_type": "code",
      "source": [
        ""
      ],
      "metadata": {
        "id": "6SUw8G0x9BTk"
      },
      "execution_count": null,
      "outputs": []
    }
  ]
}